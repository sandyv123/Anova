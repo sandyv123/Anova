{
 "cells": [
  {
   "cell_type": "markdown",
   "metadata": {},
   "source": [
    "# ===============One way Anova Analysis================="
   ]
  },
  {
   "cell_type": "markdown",
   "metadata": {},
   "source": [
    "# Abstract\n",
    "This article presents the statistical analysis of the deposit activities in each of the account types of a leading bank in Nigeria. The mean effect of these account types on the bank was determined using analysis of variance (ANOVA). Further test which include the Tukey's simultaneous test for differences of means was also conducted."
   ]
  },
  {
   "cell_type": "markdown",
   "metadata": {},
   "source": [
    "# Import Required Library"
   ]
  },
  {
   "cell_type": "code",
   "execution_count": 54,
   "metadata": {},
   "outputs": [],
   "source": [
    "import pandas as pd\n",
    "import numpy as np\n",
    "import matplotlib as mp\n",
    "import seaborn as sns\n",
    "# Supress Warnings\n",
    "import warnings\n",
    "warnings.filterwarnings('ignore')"
   ]
  },
  {
   "cell_type": "markdown",
   "metadata": {},
   "source": [
    "# Load Data File"
   ]
  },
  {
   "cell_type": "code",
   "execution_count": 55,
   "metadata": {},
   "outputs": [],
   "source": [
    "df=pd.read_excel(\"bank_deposits_d1.xlsx\",'Sheet1')\n",
    "#df=df.replace(np.nan, 0)"
   ]
  },
  {
   "cell_type": "markdown",
   "metadata": {},
   "source": [
    "# Top - 5 Observation "
   ]
  },
  {
   "cell_type": "code",
   "execution_count": 92,
   "metadata": {},
   "outputs": [
    {
     "data": {
      "text/html": [
       "<div>\n",
       "<style scoped>\n",
       "    .dataframe tbody tr th:only-of-type {\n",
       "        vertical-align: middle;\n",
       "    }\n",
       "\n",
       "    .dataframe tbody tr th {\n",
       "        vertical-align: top;\n",
       "    }\n",
       "\n",
       "    .dataframe thead th {\n",
       "        text-align: right;\n",
       "    }\n",
       "</style>\n",
       "<table border=\"1\" class=\"dataframe\">\n",
       "  <thead>\n",
       "    <tr style=\"text-align: right;\">\n",
       "      <th></th>\n",
       "      <th>Account_Type_1_Savings</th>\n",
       "      <th>Account_Type_2_Current</th>\n",
       "      <th>Account_Type_3 _Corporate</th>\n",
       "      <th>Account_Type_4</th>\n",
       "      <th>Account_Type_5</th>\n",
       "      <th>Account_Type_6</th>\n",
       "    </tr>\n",
       "  </thead>\n",
       "  <tbody>\n",
       "    <tr>\n",
       "      <th>0</th>\n",
       "      <td>20000</td>\n",
       "      <td>735000.0</td>\n",
       "      <td>500000.0</td>\n",
       "      <td>18500.0</td>\n",
       "      <td>15000.0</td>\n",
       "      <td>20000.0</td>\n",
       "    </tr>\n",
       "    <tr>\n",
       "      <th>1</th>\n",
       "      <td>22000</td>\n",
       "      <td>850000.0</td>\n",
       "      <td>280000.0</td>\n",
       "      <td>50000.0</td>\n",
       "      <td>25000.0</td>\n",
       "      <td>15000.0</td>\n",
       "    </tr>\n",
       "    <tr>\n",
       "      <th>2</th>\n",
       "      <td>46000</td>\n",
       "      <td>130000.0</td>\n",
       "      <td>700000.0</td>\n",
       "      <td>40000.0</td>\n",
       "      <td>8000.0</td>\n",
       "      <td>80000.0</td>\n",
       "    </tr>\n",
       "    <tr>\n",
       "      <th>3</th>\n",
       "      <td>18000</td>\n",
       "      <td>350000.0</td>\n",
       "      <td>332000.0</td>\n",
       "      <td>15000.0</td>\n",
       "      <td>78000.0</td>\n",
       "      <td>17000.0</td>\n",
       "    </tr>\n",
       "    <tr>\n",
       "      <th>4</th>\n",
       "      <td>7500</td>\n",
       "      <td>428000.0</td>\n",
       "      <td>200000.0</td>\n",
       "      <td>20000.0</td>\n",
       "      <td>40000.0</td>\n",
       "      <td>NaN</td>\n",
       "    </tr>\n",
       "  </tbody>\n",
       "</table>\n",
       "</div>"
      ],
      "text/plain": [
       "   Account_Type_1_Savings  Account_Type_2_Current  Account_Type_3 _Corporate  \\\n",
       "0                   20000                735000.0                   500000.0   \n",
       "1                   22000                850000.0                   280000.0   \n",
       "2                   46000                130000.0                   700000.0   \n",
       "3                   18000                350000.0                   332000.0   \n",
       "4                    7500                428000.0                   200000.0   \n",
       "\n",
       "   Account_Type_4  Account_Type_5  Account_Type_6  \n",
       "0         18500.0         15000.0         20000.0  \n",
       "1         50000.0         25000.0         15000.0  \n",
       "2         40000.0          8000.0         80000.0  \n",
       "3         15000.0         78000.0         17000.0  \n",
       "4         20000.0         40000.0             NaN  "
      ]
     },
     "execution_count": 92,
     "metadata": {},
     "output_type": "execute_result"
    }
   ],
   "source": [
    "df.head(5)"
   ]
  },
  {
   "cell_type": "markdown",
   "metadata": {},
   "source": [
    "# Reshape the Dataframe Suitable For StatsModels Package"
   ]
  },
  {
   "cell_type": "code",
   "execution_count": 58,
   "metadata": {},
   "outputs": [],
   "source": [
    "df_melt1 = pd.melt(df.reset_index(), id_vars=['index'], value_vars=['Account_Type_1_Savings', 'Account_Type_2_Current', 'Account_Type_3 _Corporate', 'Account_Type_4','Account_Type_5','Account_Type_6'])"
   ]
  },
  {
   "cell_type": "code",
   "execution_count": 59,
   "metadata": {},
   "outputs": [
    {
     "data": {
      "text/html": [
       "<div>\n",
       "<style scoped>\n",
       "    .dataframe tbody tr th:only-of-type {\n",
       "        vertical-align: middle;\n",
       "    }\n",
       "\n",
       "    .dataframe tbody tr th {\n",
       "        vertical-align: top;\n",
       "    }\n",
       "\n",
       "    .dataframe thead th {\n",
       "        text-align: right;\n",
       "    }\n",
       "</style>\n",
       "<table border=\"1\" class=\"dataframe\">\n",
       "  <thead>\n",
       "    <tr style=\"text-align: right;\">\n",
       "      <th></th>\n",
       "      <th>index</th>\n",
       "      <th>variable</th>\n",
       "      <th>value</th>\n",
       "    </tr>\n",
       "  </thead>\n",
       "  <tbody>\n",
       "    <tr>\n",
       "      <th>0</th>\n",
       "      <td>0</td>\n",
       "      <td>Account_Type_1_Savings</td>\n",
       "      <td>20000.0</td>\n",
       "    </tr>\n",
       "    <tr>\n",
       "      <th>1</th>\n",
       "      <td>1</td>\n",
       "      <td>Account_Type_1_Savings</td>\n",
       "      <td>22000.0</td>\n",
       "    </tr>\n",
       "    <tr>\n",
       "      <th>2</th>\n",
       "      <td>2</td>\n",
       "      <td>Account_Type_1_Savings</td>\n",
       "      <td>46000.0</td>\n",
       "    </tr>\n",
       "    <tr>\n",
       "      <th>3</th>\n",
       "      <td>3</td>\n",
       "      <td>Account_Type_1_Savings</td>\n",
       "      <td>18000.0</td>\n",
       "    </tr>\n",
       "    <tr>\n",
       "      <th>4</th>\n",
       "      <td>4</td>\n",
       "      <td>Account_Type_1_Savings</td>\n",
       "      <td>7500.0</td>\n",
       "    </tr>\n",
       "  </tbody>\n",
       "</table>\n",
       "</div>"
      ],
      "text/plain": [
       "   index                variable    value\n",
       "0      0  Account_Type_1_Savings  20000.0\n",
       "1      1  Account_Type_1_Savings  22000.0\n",
       "2      2  Account_Type_1_Savings  46000.0\n",
       "3      3  Account_Type_1_Savings  18000.0\n",
       "4      4  Account_Type_1_Savings   7500.0"
      ]
     },
     "execution_count": 59,
     "metadata": {},
     "output_type": "execute_result"
    }
   ],
   "source": [
    "df_melt1.head()"
   ]
  },
  {
   "cell_type": "markdown",
   "metadata": {},
   "source": [
    "# Rename Column Names"
   ]
  },
  {
   "cell_type": "code",
   "execution_count": 60,
   "metadata": {},
   "outputs": [
    {
     "data": {
      "text/html": [
       "<div>\n",
       "<style scoped>\n",
       "    .dataframe tbody tr th:only-of-type {\n",
       "        vertical-align: middle;\n",
       "    }\n",
       "\n",
       "    .dataframe tbody tr th {\n",
       "        vertical-align: top;\n",
       "    }\n",
       "\n",
       "    .dataframe thead th {\n",
       "        text-align: right;\n",
       "    }\n",
       "</style>\n",
       "<table border=\"1\" class=\"dataframe\">\n",
       "  <thead>\n",
       "    <tr style=\"text-align: right;\">\n",
       "      <th></th>\n",
       "      <th>index</th>\n",
       "      <th>treatments</th>\n",
       "      <th>value</th>\n",
       "    </tr>\n",
       "  </thead>\n",
       "  <tbody>\n",
       "    <tr>\n",
       "      <th>0</th>\n",
       "      <td>0</td>\n",
       "      <td>Account_Type_1_Savings</td>\n",
       "      <td>20000.0</td>\n",
       "    </tr>\n",
       "    <tr>\n",
       "      <th>1</th>\n",
       "      <td>1</td>\n",
       "      <td>Account_Type_1_Savings</td>\n",
       "      <td>22000.0</td>\n",
       "    </tr>\n",
       "    <tr>\n",
       "      <th>2</th>\n",
       "      <td>2</td>\n",
       "      <td>Account_Type_1_Savings</td>\n",
       "      <td>46000.0</td>\n",
       "    </tr>\n",
       "    <tr>\n",
       "      <th>3</th>\n",
       "      <td>3</td>\n",
       "      <td>Account_Type_1_Savings</td>\n",
       "      <td>18000.0</td>\n",
       "    </tr>\n",
       "    <tr>\n",
       "      <th>4</th>\n",
       "      <td>4</td>\n",
       "      <td>Account_Type_1_Savings</td>\n",
       "      <td>7500.0</td>\n",
       "    </tr>\n",
       "  </tbody>\n",
       "</table>\n",
       "</div>"
      ],
      "text/plain": [
       "   index              treatments    value\n",
       "0      0  Account_Type_1_Savings  20000.0\n",
       "1      1  Account_Type_1_Savings  22000.0\n",
       "2      2  Account_Type_1_Savings  46000.0\n",
       "3      3  Account_Type_1_Savings  18000.0\n",
       "4      4  Account_Type_1_Savings   7500.0"
      ]
     },
     "execution_count": 60,
     "metadata": {},
     "output_type": "execute_result"
    }
   ],
   "source": [
    "df_melt1.columns = ['index', 'treatments', 'value']\n",
    "df_melt1.head()"
   ]
  },
  {
   "cell_type": "markdown",
   "metadata": {},
   "source": [
    "# Create a boxplot to see the data distribution by treatments.\n",
    "\n",
    "## Using boxplot, we can easily detect the differences between different treatments\n",
    "\n",
    "### the boxplot representing the mean amount deposited in the various account types is displayed"
   ]
  },
  {
   "cell_type": "code",
   "execution_count": 61,
   "metadata": {},
   "outputs": [
    {
     "data": {
      "text/plain": [
       "<matplotlib.axes._subplots.AxesSubplot at 0x1db8b3b9dc0>"
      ]
     },
     "execution_count": 61,
     "metadata": {},
     "output_type": "execute_result"
    },
    {
     "data": {
      "image/png": "[encoded data removed]",
      "text/plain": [
       "<Figure size 1080x576 with 1 Axes>"
      ]
     },
     "metadata": {
      "needs_background": "light"
     },
     "output_type": "display_data"
    }
   ],
   "source": [
    "import matplotlib.pyplot as plt\n",
    "fig_dims = (15, 8)\n",
    "fig, ax = plt.subplots(figsize=fig_dims)\n",
    "sns.boxplot(x = \"treatments\", y = \"value\", ax=ax, data=df_melt1,color='#99c2a2')\n",
    "sns.swarmplot(x=\"treatments\", y=\"value\",ax=ax ,data=df_melt1, color='#7d0013')"
   ]
  },
  {
   "cell_type": "code",
   "execution_count": 106,
   "metadata": {
    "scrolled": true
   },
   "outputs": [
    {
     "data": {
      "image/png": "[encoded data removed]",
      "text/plain": [
       "<Figure size 1440x1080 with 6 Axes>"
      ]
     },
     "metadata": {
      "needs_background": "light"
     },
     "output_type": "display_data"
    }
   ],
   "source": [
    "plt.figure(figsize=(20,15))\n",
    "\n",
    "plt.subplot(3,3,1)\n",
    "sns.boxplot(x=df['Account_Type_1_Savings'],color='Pink')\n",
    "sns.swarmplot(x=df['Account_Type_1_Savings'], color=\".25\")\n",
    "\n",
    "plt.subplot(3,3,2)\n",
    "sns.boxplot(x=df['Account_Type_2_Current'],color='Orange')\n",
    "sns.swarmplot(x=df['Account_Type_2_Current'], color=\".25\")\n",
    "\n",
    "plt.subplot(3,3,3)\n",
    "sns.boxplot(x=df['Account_Type_3 _Corporate'],color=\"Green\")\n",
    "sns.swarmplot(x=df['Account_Type_3 _Corporate'], color=\".25\")\n",
    "\n",
    "plt.subplot(3,3,4)\n",
    "sns.boxplot(x=df['Account_Type_4'],color='Red')\n",
    "sns.swarmplot(x=df['Account_Type_4'], color=\".25\")\n",
    "\n",
    "plt.subplot(3,3,5)\n",
    "sns.boxplot(x=df['Account_Type_5'],color='violet')\n",
    "sns.swarmplot(x=df['Account_Type_5'], color=\".25\")\n",
    "\n",
    "plt.subplot(3,3,6)\n",
    "sns.boxplot(x=df['Account_Type_6'],color='grey')\n",
    "sns.swarmplot(x=df['Account_Type_6'], color=\".25\")\n",
    "\n",
    "plt.show()"
   ]
  },
  {
   "cell_type": "markdown",
   "metadata": {},
   "source": [
    "### Boxplot Structure\n",
    "1)Bottom black horizontal line of Pink box plot is minimum value.\n",
    "\n",
    "2)First black horizontal line of rectangle shape of Pink box plot is First quartile [Q1] or 25%\n",
    "\n",
    "3)Second black horizontal line of rectangle shape of Pink box plot is Second quartile [Q2]o r 50% or median\n",
    "\n",
    "4)Third black horizontal line of rectangle shape of Pink box plot is third quartile [Q3] or 75%\n",
    "\n",
    "5)Top black horizontal line of rectangle shape of Pink box plot is maximum value.\n",
    "\n",
    "6)Values which are above Top Black Horizontal line of rectangle shape of Pink box are Outliers"
   ]
  },
  {
   "cell_type": "markdown",
   "metadata": {},
   "source": [
    "Observations :\n",
    "\n",
    "Account_Type_1_Savings:You can see that Q2 is present nearer to Q1. This represents a positively skewed distribution. In terms of quartiles, it can be given by:Q3-Q2 > Q2-Q1 with outliers\n",
    "\n",
    "Account_Type_2_Current: You’ll notice here that the distance between Q1 and Q2 and Q2 and Q3 is almost equal i.e.: Q3-Q2=Q2-Q1\n",
    "\n",
    "Account_Type_3 _Corporate :You can see that Q2 is present nearer to Q1. This represents a positively skewed distribution. In terms of quartiles, it can be given by:Q3-Q2 > Q2-Q1 \n",
    "\n",
    "Account_Type_4 :You can see that Q2 is present nearer to Q1. This represents a positively skewed distribution. In terms of quartiles, it can be given by:Q3-Q2 > Q2-Q1\n",
    "\n",
    "Account_Type_5 : You can see that Q2 is present nearer to Q1. This represents a positively skewed distribution. In terms of quartiles, it can be given by:Q3-Q2 > Q2-Q1\n",
    "\n",
    "Account_Type_6 : You can see that Q2 is present nearer to Q1. This represents a positively skewed distribution. In terms of quartiles, it can be given by:Q3-Q2 > Q2-Q1 with outliers"
   ]
  },
  {
   "cell_type": "markdown",
   "metadata": {},
   "source": [
    "# Summary Statistics"
   ]
  },
  {
   "cell_type": "code",
   "execution_count": 62,
   "metadata": {},
   "outputs": [
    {
     "data": {
      "text/html": [
       "<div>\n",
       "<style scoped>\n",
       "    .dataframe tbody tr th:only-of-type {\n",
       "        vertical-align: middle;\n",
       "    }\n",
       "\n",
       "    .dataframe tbody tr th {\n",
       "        vertical-align: top;\n",
       "    }\n",
       "\n",
       "    .dataframe thead th {\n",
       "        text-align: right;\n",
       "    }\n",
       "</style>\n",
       "<table border=\"1\" class=\"dataframe\">\n",
       "  <thead>\n",
       "    <tr style=\"text-align: right;\">\n",
       "      <th></th>\n",
       "      <th>count</th>\n",
       "      <th>mean</th>\n",
       "      <th>std</th>\n",
       "      <th>min</th>\n",
       "      <th>25%</th>\n",
       "      <th>50%</th>\n",
       "      <th>75%</th>\n",
       "      <th>max</th>\n",
       "    </tr>\n",
       "  </thead>\n",
       "  <tbody>\n",
       "    <tr>\n",
       "      <th>Account_Type_1_Savings</th>\n",
       "      <td>30.0</td>\n",
       "      <td>21633.333333</td>\n",
       "      <td>26794.857115</td>\n",
       "      <td>3000.0</td>\n",
       "      <td>7500.0</td>\n",
       "      <td>12000.0</td>\n",
       "      <td>20000.0</td>\n",
       "      <td>130000.0</td>\n",
       "    </tr>\n",
       "    <tr>\n",
       "      <th>Account_Type_2_Current</th>\n",
       "      <td>15.0</td>\n",
       "      <td>444200.000000</td>\n",
       "      <td>230459.540918</td>\n",
       "      <td>130000.0</td>\n",
       "      <td>291500.0</td>\n",
       "      <td>428000.0</td>\n",
       "      <td>566000.0</td>\n",
       "      <td>850000.0</td>\n",
       "    </tr>\n",
       "    <tr>\n",
       "      <th>Account_Type_3 _Corporate</th>\n",
       "      <td>6.0</td>\n",
       "      <td>365333.333333</td>\n",
       "      <td>200106.638237</td>\n",
       "      <td>180000.0</td>\n",
       "      <td>220000.0</td>\n",
       "      <td>306000.0</td>\n",
       "      <td>458000.0</td>\n",
       "      <td>700000.0</td>\n",
       "    </tr>\n",
       "    <tr>\n",
       "      <th>Account_Type_4</th>\n",
       "      <td>8.0</td>\n",
       "      <td>31125.000000</td>\n",
       "      <td>20400.892838</td>\n",
       "      <td>12000.0</td>\n",
       "      <td>17625.0</td>\n",
       "      <td>21750.0</td>\n",
       "      <td>42500.0</td>\n",
       "      <td>70000.0</td>\n",
       "    </tr>\n",
       "    <tr>\n",
       "      <th>Account_Type_5</th>\n",
       "      <td>7.0</td>\n",
       "      <td>36571.428571</td>\n",
       "      <td>30918.479603</td>\n",
       "      <td>8000.0</td>\n",
       "      <td>12500.0</td>\n",
       "      <td>25000.0</td>\n",
       "      <td>59000.0</td>\n",
       "      <td>80000.0</td>\n",
       "    </tr>\n",
       "    <tr>\n",
       "      <th>Account_Type_6</th>\n",
       "      <td>4.0</td>\n",
       "      <td>33000.000000</td>\n",
       "      <td>31400.636936</td>\n",
       "      <td>15000.0</td>\n",
       "      <td>16500.0</td>\n",
       "      <td>18500.0</td>\n",
       "      <td>35000.0</td>\n",
       "      <td>80000.0</td>\n",
       "    </tr>\n",
       "  </tbody>\n",
       "</table>\n",
       "</div>"
      ],
      "text/plain": [
       "                           count           mean            std       min  \\\n",
       "Account_Type_1_Savings      30.0   21633.333333   26794.857115    3000.0   \n",
       "Account_Type_2_Current      15.0  444200.000000  230459.540918  130000.0   \n",
       "Account_Type_3 _Corporate    6.0  365333.333333  200106.638237  180000.0   \n",
       "Account_Type_4               8.0   31125.000000   20400.892838   12000.0   \n",
       "Account_Type_5               7.0   36571.428571   30918.479603    8000.0   \n",
       "Account_Type_6               4.0   33000.000000   31400.636936   15000.0   \n",
       "\n",
       "                                25%       50%       75%       max  \n",
       "Account_Type_1_Savings       7500.0   12000.0   20000.0  130000.0  \n",
       "Account_Type_2_Current     291500.0  428000.0  566000.0  850000.0  \n",
       "Account_Type_3 _Corporate  220000.0  306000.0  458000.0  700000.0  \n",
       "Account_Type_4              17625.0   21750.0   42500.0   70000.0  \n",
       "Account_Type_5              12500.0   25000.0   59000.0   80000.0  \n",
       "Account_Type_6              16500.0   18500.0   35000.0   80000.0  "
      ]
     },
     "execution_count": 62,
     "metadata": {},
     "output_type": "execute_result"
    }
   ],
   "source": [
    "df.describe().T"
   ]
  },
  {
   "cell_type": "code",
   "execution_count": 94,
   "metadata": {},
   "outputs": [
    {
     "name": "stdout",
     "output_type": "stream",
     "text": [
      "MEAN : Account_Type_1_Savings        21633.333333\n",
      "Account_Type_2_Current       444200.000000\n",
      "Account_Type_3 _Corporate    365333.333333\n",
      "Account_Type_4                31125.000000\n",
      "Account_Type_5                36571.428571\n",
      "Account_Type_6                33000.000000\n",
      "dtype: float64\n",
      "Median : Account_Type_1_Savings        12000.0\n",
      "Account_Type_2_Current       428000.0\n",
      "Account_Type_3 _Corporate    306000.0\n",
      "Account_Type_4                21750.0\n",
      "Account_Type_5                25000.0\n",
      "Account_Type_6                18500.0\n",
      "dtype: float64\n",
      "difference : Account_Type_1_Savings        9633.333333\n",
      "Account_Type_2_Current       16200.000000\n",
      "Account_Type_3 _Corporate    59333.333333\n",
      "Account_Type_4                9375.000000\n",
      "Account_Type_5               11571.428571\n",
      "Account_Type_6               14500.000000\n",
      "dtype: float64\n"
     ]
    }
   ],
   "source": [
    "print(\"MEAN :\",df.mean())\n",
    "print(\"Median :\",df.median())\n",
    "#print(\"Mode :\",df.mode().T)\n",
    "print(\"difference :\",df.mean()-df.median())"
   ]
  },
  {
   "cell_type": "markdown",
   "metadata": {},
   "source": [
    "As we notice mean > median in all Account types,its tells that the value of skweness for skewed distribution is greater than Zero. i.e data is +ve Skewed"
   ]
  },
  {
   "cell_type": "markdown",
   "metadata": {},
   "source": [
    "### Let us use seaborn distplot to analyze the distribution of our columns and see the skewness in attributes"
   ]
  },
  {
   "cell_type": "code",
   "execution_count": 101,
   "metadata": {},
   "outputs": [
    {
     "data": {
      "image/png": "[encoded data removed]",
      "text/plain": [
       "<Figure size 1728x288 with 6 Axes>"
      ]
     },
     "metadata": {
      "needs_background": "light"
     },
     "output_type": "display_data"
    }
   ],
   "source": [
    "f,ax=plt.subplots(1,6,figsize=(24,4))\n",
    "vis1=sns.distplot(df['Account_Type_1_Savings'],bins=10,ax=ax[0])\n",
    "vis2=sns.distplot(df['Account_Type_2_Current'],bins=10,ax=ax[1])\n",
    "vis3=sns.distplot(df['Account_Type_3 _Corporate'],bins=10,ax=ax[2])\n",
    "vis4=sns.distplot(df['Account_Type_4'],bins=10,ax=ax[3])\n",
    "vis5=sns.distplot(df['Account_Type_5'],bins=10,ax=ax[4])\n",
    "vis6=sns.distplot(df['Account_Type_6'],bins=10,ax=ax[5])"
   ]
  },
  {
   "cell_type": "markdown",
   "metadata": {},
   "source": [
    "### We can also check Skewness by using Skew() inbuilt function"
   ]
  },
  {
   "cell_type": "code",
   "execution_count": 102,
   "metadata": {},
   "outputs": [
    {
     "name": "stdout",
     "output_type": "stream",
     "text": [
      "skewValue of dataframe attributes:  Account_Type_1_Savings       2.793323\n",
      "Account_Type_2_Current       0.444852\n",
      "Account_Type_3 _Corporate    1.062614\n",
      "Account_Type_4               1.147541\n",
      "Account_Type_5               0.784567\n",
      "Account_Type_6               1.974482\n",
      "dtype: float64\n"
     ]
    }
   ],
   "source": [
    "skewValue = df.skew()\n",
    "print(\"skewValue of dataframe attributes: \", skewValue)"
   ]
  },
  {
   "cell_type": "markdown",
   "metadata": {},
   "source": [
    "Since our data is positively skewed here, it means that it has a higher number of data points having low values"
   ]
  },
  {
   "cell_type": "markdown",
   "metadata": {},
   "source": [
    "### ANOVA using Python"
   ]
  },
  {
   "cell_type": "markdown",
   "metadata": {},
   "source": [
    "### What is ANOVA (ANalysis Of VAriance)?\n",
    "\n",
    "1)ANOVA test used to compare the means of more than 2 groups (t-test can be used to compare 2 groups)\n",
    "\n",
    "2)Groups mean differences inferred by analyzing variances\n",
    "\n",
    "3)ANOVA uses variance-based F test to check the group mean equality. Sometimes, ANOVA F test is also called omnibus test as it tests non-specific null hypothesis i.e. all group means are equal\n",
    "\n",
    "4)Main types: One-way (one factor) and two-way (two factors) ANOVA (factor is an independent variable)\n",
    "\n",
    "5)If you have repeated measurements for treatments or time on same subjects, you should use Repeated Measure ANOVA\n",
    "\n",
    "Note: In ANOVA, group, factors, and independent variables are similar terms"
   ]
  },
  {
   "cell_type": "markdown",
   "metadata": {},
   "source": [
    "### ANOVA Hypotheses\n",
    "\n",
    "Null hypothesis: Groups means are equal (no variation in means of groups)\n",
    "H0: μ1=μ2=…=μp\n",
    "\n",
    "Alternative hypothesis: At least, one group mean is different from other groups\n",
    "H1: All μ are not equal"
   ]
  },
  {
   "cell_type": "markdown",
   "metadata": {},
   "source": [
    "### ANOVA Assumptions\n",
    "\n",
    "Residuals (experimental error) are normally distributed (Shapiro-Wilks Test)\n",
    "\n",
    "Homogeneity of variances (variances are equal between treatment groups) (Levene’s or Bartlett’s Test)\n",
    "\n",
    "Observations are sampled independently from each other"
   ]
  },
  {
   "cell_type": "markdown",
   "metadata": {},
   "source": [
    "###  How ANOVA works?\n",
    "\n",
    "Check sample sizes: equal number of observation in each group\n",
    "\n",
    "Calculate Mean Square for each group (MS) (SS of group/level-1); level-1 is a degree of freedom (df) for a group\n",
    "\n",
    "Calculate Mean Square error (MSE) (SS error/df of residuals)\n",
    "\n",
    "Calculate F value (MS of group/MSE)"
   ]
  },
  {
   "cell_type": "markdown",
   "metadata": {},
   "source": [
    "### One-way (one factor) ANOVA with Python"
   ]
  },
  {
   "attachments": {},
   "cell_type": "markdown",
   "metadata": {},
   "source": [
    "Here, there are four treatments\n",
    "\n",
    "(Account_Type_1_Savings,Account_Type_2_Current,Account_Type_3 _Corporate,Account_Type_4,Account_Type_5,Account_Type_6 which are groups for ANOVA analysis.\n",
    "\n",
    "Treatments are independent variable and termed as factor. As there are four types of treatments, treatment factor has four levels.\n",
    "\n",
    "For this experimental design, \n",
    "\n",
    "there is only factor (treatments) or independent variable to evaluate, and therefore, one-way ANOVA method is suitable for analysis."
   ]
  },
  {
   "cell_type": "markdown",
   "metadata": {},
   "source": [
    "### Stats f_oneway functions takes the groups as input & returns ANOVA F-value and p-value"
   ]
  },
  {
   "cell_type": "code",
   "execution_count": 113,
   "metadata": {},
   "outputs": [],
   "source": [
    "data = [df[col].dropna() for col in df]"
   ]
  },
  {
   "cell_type": "code",
   "execution_count": 114,
   "metadata": {},
   "outputs": [],
   "source": [
    "import scipy.stats as stats\n",
    "fvalue, pvalue = stats.f_oneway(*data)"
   ]
  },
  {
   "cell_type": "code",
   "execution_count": 115,
   "metadata": {},
   "outputs": [
    {
     "name": "stdout",
     "output_type": "stream",
     "text": [
      "F-Vaue : 30.5101 P-value : 0.0\n"
     ]
    }
   ],
   "source": [
    "print('F-Vaue :',fvalue.round(decimals=4), 'P-value :', pvalue.round(decimals=4))"
   ]
  },
  {
   "cell_type": "markdown",
   "metadata": {},
   "source": [
    "###  For getting  ANOVA table Import OLS from Statsmodel "
   ]
  },
  {
   "cell_type": "code",
   "execution_count": 40,
   "metadata": {},
   "outputs": [],
   "source": [
    "import statsmodels.api as sm\n",
    "from statsmodels.formula.api import ols"
   ]
  },
  {
   "cell_type": "markdown",
   "metadata": {},
   "source": [
    "###  Ordinary Least Squares (OLS) model"
   ]
  },
  {
   "cell_type": "code",
   "execution_count": 72,
   "metadata": {},
   "outputs": [],
   "source": [
    "lm=ols('value~C(treatments)',data=df_melt1).fit()\n",
    "Anova_table=sm.stats.anova_lm(lm)\n",
    "res = lm.resid # residuals"
   ]
  },
  {
   "cell_type": "markdown",
   "metadata": {},
   "source": [
    "###  Print  Output (ANOVA F and p-value)"
   ]
  },
  {
   "cell_type": "code",
   "execution_count": 73,
   "metadata": {},
   "outputs": [
    {
     "name": "stdout",
     "output_type": "stream",
     "text": [
      "                 df        sum_sq       mean_sq          F        PR(>F)\n",
      "C(treatments)   5.0  2.326883e+12  4.653765e+11  30.510122  9.975028e-16\n",
      "Residual       64.0  9.762038e+11  1.525318e+10        NaN           NaN\n"
     ]
    }
   ],
   "source": [
    "print(Anova_table)"
   ]
  },
  {
   "cell_type": "code",
   "execution_count": 36,
   "metadata": {},
   "outputs": [
    {
     "name": "stdout",
     "output_type": "stream",
     "text": [
      "0      -1633.333333\n",
      "1        366.666667\n",
      "2      24366.666667\n",
      "3      -3633.333333\n",
      "4     -14133.333333\n",
      "           ...     \n",
      "175    -4400.000000\n",
      "176    -4400.000000\n",
      "177    -4400.000000\n",
      "178    -4400.000000\n",
      "179    -4400.000000\n",
      "Length: 180, dtype: float64\n"
     ]
    }
   ],
   "source": [
    "print(res)"
   ]
  },
  {
   "cell_type": "markdown",
   "metadata": {},
   "source": [
    "### Note: if the data is balanced (equal sample size for each group), Type 1, 2, and 3 sums of squares\n",
    "### (typ=1/2/3 parameter) will produce similar results."
   ]
  },
  {
   "cell_type": "markdown",
   "metadata": {},
   "source": [
    "# Interpretation"
   ]
  },
  {
   "cell_type": "markdown",
   "metadata": {},
   "source": [
    "### The p-value obtained from ANOVA analysis is significant (p < 0.05), and therefore, we conclude that there are significant differences among treatments."
   ]
  },
  {
   "cell_type": "markdown",
   "metadata": {},
   "source": [
    "## Important Note :"
   ]
  },
  {
   "cell_type": "markdown",
   "metadata": {},
   "source": [
    "###  If you have unbalanced (unequal sample size for each group) data, you can perform similar steps as described for one-way ANOVA with balanced design (equal sample size for each group)."
   ]
  },
  {
   "cell_type": "markdown",
   "metadata": {},
   "source": [
    "###  From ANOVA Analysis, we know that treatment differences are statistically significant, but ANOVA does not tell which treatments are significantly different from each other. To know the pairs of significant different treatments, we will perform multiple pairwise comparison (post hoc comparison) analysis for all unplanned comparison using Tukey’s honestly significantly differenced (HSD) test."
   ]
  },
  {
   "cell_type": "markdown",
   "metadata": {},
   "source": [
    "Tukey’s HSD test accounts for multiple comparisons and corrects for family-wise error rate (FWER) (inflated type I error)"
   ]
  },
  {
   "cell_type": "markdown",
   "metadata": {},
   "source": [
    "# Import pairwise_tukeyhsd"
   ]
  },
  {
   "cell_type": "code",
   "execution_count": 13,
   "metadata": {},
   "outputs": [],
   "source": [
    "from statsmodels.stats.multicomp import pairwise_tukeyhsd"
   ]
  },
  {
   "cell_type": "code",
   "execution_count": 14,
   "metadata": {},
   "outputs": [],
   "source": [
    "df_melt1=df_melt1.replace(np.nan, 0)"
   ]
  },
  {
   "cell_type": "code",
   "execution_count": 15,
   "metadata": {},
   "outputs": [],
   "source": [
    "# perform Tukey's test\n",
    "tukey = pairwise_tukeyhsd(endog=df_melt1['value'],\n",
    "                          groups=df_melt1['treatments'],\n",
    "                          alpha=0.05)"
   ]
  },
  {
   "cell_type": "code",
   "execution_count": 16,
   "metadata": {},
   "outputs": [
    {
     "name": "stdout",
     "output_type": "stream",
     "text": [
      "                          Multiple Comparison of Means - Tukey HSD, FWER=0.05                           \n",
      "========================================================================================================\n",
      "          group1                    group2            meandiff   p-adj     lower        upper     reject\n",
      "--------------------------------------------------------------------------------------------------------\n",
      "   Account_Type_1_Savings    Account_Type_2_Current  200466.6667  0.001  100938.2307  299995.1027   True\n",
      "   Account_Type_1_Savings Account_Type_3 _Corporate   51433.3333 0.6495  -48095.1027  150961.7693  False\n",
      "   Account_Type_1_Savings            Account_Type_4  -13333.3333    0.9 -112861.7693   86195.1027  False\n",
      "   Account_Type_1_Savings            Account_Type_5     -13100.0    0.9  -112628.436    86428.436  False\n",
      "   Account_Type_1_Savings           Account_Type_6   -17233.3333    0.9 -116761.7693   82295.1027  False\n",
      "   Account_Type_2_Current Account_Type_3 _Corporate -149033.3333  0.001 -248561.7693  -49504.8973   True\n",
      "   Account_Type_2_Current            Account_Type_4    -213800.0  0.001  -313328.436  -114271.564   True\n",
      "   Account_Type_2_Current            Account_Type_5 -213566.6667  0.001 -313095.1027 -114038.2307   True\n",
      "   Account_Type_2_Current           Account_Type_6     -217700.0  0.001  -317228.436  -118171.564   True\n",
      "Account_Type_3 _Corporate            Account_Type_4  -64766.6667 0.4228 -164295.1027   34761.7693  False\n",
      "Account_Type_3 _Corporate            Account_Type_5  -64533.3333  0.427 -164061.7693   34995.1027  False\n",
      "Account_Type_3 _Corporate           Account_Type_6   -68666.6667 0.3538 -168195.1027   30861.7693  False\n",
      "           Account_Type_4            Account_Type_5     233.3333    0.9  -99295.1027   99761.7693  False\n",
      "           Account_Type_4           Account_Type_6       -3900.0    0.9  -103428.436    95628.436  False\n",
      "           Account_Type_5           Account_Type_6    -4133.3333    0.9 -103661.7693   95395.1027  False\n",
      "--------------------------------------------------------------------------------------------------------\n"
     ]
    }
   ],
   "source": [
    "print(tukey)"
   ]
  },
  {
   "cell_type": "markdown",
   "metadata": {},
   "source": [
    "### Note: (p-adj) - p-value 0.001 from tukey_hsd output should be interpreted as <=0.001"
   ]
  },
  {
   "cell_type": "markdown",
   "metadata": {},
   "source": [
    "The pairs with p-value that is less than 0.05 are significantly different from each other"
   ]
  },
  {
   "cell_type": "markdown",
   "metadata": {},
   "source": [
    "Thus, we would conclude that there is a statistically significant difference between\n",
    "\n",
    "1) i) the means of groups Account_Type_1_Savings and Account_Type_2_Current\n",
    "   ii)Account_Type_2_Current and Account_Type_3 _Corporate\n",
    "   iii)Account_Type_2_Current and Account_Type_4\n",
    "   iv) Account_Type_2_Current and Account_Type_5\n",
    "   v)Account_Type_2_Current and Account_Type_6\n",
    "    \n",
    " but not a statistically significant difference between the means of groups where p-adj is not less than Alpha (0.05)\n",
    " \n"
   ]
  },
  {
   "cell_type": "markdown",
   "metadata": {},
   "source": [
    "#### Note: Tukey's HSD test is conservative and increases the critical value to control the experimentwise type I error rate. If you have a large number of comparisons (say > 10 or 20) to make using Tukey's test, there may be chances that you may not get significant results for all or expected pairs. If you are interested in only specific or few comparisons and you won't find significant differences using Tukey's test, you may split the data for specific comparisons or use the t-test"
   ]
  },
  {
   "cell_type": "markdown",
   "metadata": {},
   "source": [
    "# Holm-Bonferroni Method\n",
    "\n",
    "## The Holm-Bonferroni method is an alterantive method for Multi-Comparison"
   ]
  },
  {
   "cell_type": "code",
   "execution_count": 17,
   "metadata": {},
   "outputs": [
    {
     "name": "stdout",
     "output_type": "stream",
     "text": [
      "Test Multiple Comparison ttest_rel \n",
      "FWER=0.05 method=Holm\n",
      "alphacSidak=0.00, alphacBonf=0.003\n",
      "===================================================================================\n",
      "          group1                    group2            stat   pval  pval_corr reject\n",
      "-----------------------------------------------------------------------------------\n",
      "   Account_Type_1_Savings    Account_Type_2_Current -3.9504 0.0005    0.0055   True\n",
      "   Account_Type_1_Savings Account_Type_3 _Corporate -1.6757 0.1046    0.4182  False\n",
      "   Account_Type_1_Savings            Account_Type_4  2.3596 0.0252    0.2097  False\n",
      "   Account_Type_1_Savings            Account_Type_5  2.3323 0.0268    0.2097  False\n",
      "   Account_Type_1_Savings           Account_Type_6   3.2926 0.0026    0.0288   True\n",
      "   Account_Type_2_Current Account_Type_3 _Corporate  3.0649 0.0047    0.0467   True\n",
      "   Account_Type_2_Current            Account_Type_4  4.3398 0.0002    0.0023   True\n",
      "   Account_Type_2_Current            Account_Type_5  4.3508 0.0002    0.0023   True\n",
      "   Account_Type_2_Current           Account_Type_6    4.328 0.0002    0.0023   True\n",
      "Account_Type_3 _Corporate            Account_Type_4  2.1898 0.0367    0.2196  False\n",
      "Account_Type_3 _Corporate            Account_Type_5  2.1915 0.0366    0.2196  False\n",
      "Account_Type_3 _Corporate           Account_Type_6   2.3949 0.0233    0.2097  False\n",
      "           Account_Type_4            Account_Type_5 -0.0549 0.9566    0.9566  False\n",
      "           Account_Type_4           Account_Type_6   1.2573 0.2187    0.6561  False\n",
      "           Account_Type_5           Account_Type_6   0.9458 0.3521    0.7042  False\n",
      "-----------------------------------------------------------------------------------\n"
     ]
    }
   ],
   "source": [
    "from scipy import stats\n",
    "from statsmodels.stats.multicomp import (pairwise_tukeyhsd,\n",
    "                                         MultiComparison)\n",
    "mod = MultiComparison(df_melt1['value'], df_melt1['treatments'])\n",
    "comp = mod.allpairtest(stats.ttest_rel, method='Holm')\n",
    "print(comp[0])"
   ]
  },
  {
   "cell_type": "code",
   "execution_count": null,
   "metadata": {},
   "outputs": [],
   "source": []
  },
  {
   "cell_type": "code",
   "execution_count": 37,
   "metadata": {},
   "outputs": [
    {
     "data": {
      "image/png": "[encoded data removed]",
      "text/plain": [
       "<Figure size 360x288 with 1 Axes>"
      ]
     },
     "metadata": {
      "needs_background": "light"
     },
     "output_type": "display_data"
    }
   ],
   "source": [
    "import numpy as np\n",
    "import pingouin as pg\n",
    "#np.random.seed(123)\n",
    "#x = np.random.normal(size=50)\n",
    "ax = pg.qqplot(res, dist='norm')"
   ]
  },
  {
   "cell_type": "markdown",
   "metadata": {},
   "source": [
    "## Normality Check using Shapiro test"
   ]
  },
  {
   "cell_type": "code",
   "execution_count": 138,
   "metadata": {},
   "outputs": [],
   "source": [
    "# dat=np.random.normal(loc=20,scale=5,size=150)\n",
    "# dat\n",
    "from scipy.stats import shapiro\n",
    "normal_data=df_melt1['value'].dropna()\n",
    "normal_data\n",
    "stat,pvalue=shapiro(normal_data)"
   ]
  },
  {
   "cell_type": "code",
   "execution_count": 145,
   "metadata": {},
   "outputs": [
    {
     "name": "stdout",
     "output_type": "stream",
     "text": [
      "Stat : 0.682 P-value : 0.0\n"
     ]
    }
   ],
   "source": [
    "print(\"Stat :\",round(stat,3),\"P-value :\", round(pvalue,3))"
   ]
  },
  {
   "cell_type": "markdown",
   "metadata": {},
   "source": [
    "If the p-value ≤ 0.05, then we reject the null hypothesis i.e. we assume the distribution of our variable is not normal/gaussian.\n",
    "\n",
    "If the p-value > 0.05, then we fail to reject the null hypothesis i.e. we assume the distribution of our variable is normal/gaussian."
   ]
  },
  {
   "cell_type": "markdown",
   "metadata": {},
   "source": [
    "Observation :\n",
    "\n",
    "from our observation ,we can conclude that our variable is not normal as we are getting p-value =0.0 which <5% alpha,we reject Null Hypothesis "
   ]
  },
  {
   "cell_type": "markdown",
   "metadata": {},
   "source": [
    "## Levene’s test can be used to check the Homogeneity of variances when the data is not drawn from normal distribution."
   ]
  },
  {
   "cell_type": "code",
   "execution_count": 163,
   "metadata": {},
   "outputs": [],
   "source": [
    "from scipy.stats import levene\n",
    "#stat,pvalue=shapiro(normal_data)\n",
    "#stat, p = levene(df['Account_Type_1_Savings'],df['Account_Type_2_Current'])#,Account_Type_3 _Corporate,Account_Type_4,Account_Type_5,Account_Type_6 \n",
    "stat, pvalue = levene(*data)"
   ]
  },
  {
   "cell_type": "code",
   "execution_count": 165,
   "metadata": {},
   "outputs": [
    {
     "name": "stdout",
     "output_type": "stream",
     "text": [
      "P-value 0.0\n"
     ]
    }
   ],
   "source": [
    "print(\"P-value\",round(pvalue,3))"
   ]
  },
  {
   "cell_type": "markdown",
   "metadata": {},
   "source": [
    "Here we can conclude that The small p-value suggests that the populations do not have equal variances."
   ]
  },
  {
   "cell_type": "code",
   "execution_count": 18,
   "metadata": {},
   "outputs": [],
   "source": [
    "#conda install -c conda-forge pingouin"
   ]
  },
  {
   "cell_type": "code",
   "execution_count": 166,
   "metadata": {},
   "outputs": [],
   "source": [
    "# import pingouin as pg\n",
    "# #dfx = pg.read_dataset('penguins')\n",
    "# x=df_melt1.pairwise_tukey(dv='value', between='treatments').round(3)\n",
    "# x"
   ]
  }
 ],
 "metadata": {
  "kernelspec": {
   "display_name": "Python 3",
   "language": "python",
   "name": "python3"
  },
  "language_info": {
   "codemirror_mode": {
    "name": "ipython",
    "version": 3
   },
   "file_extension": ".py",
   "mimetype": "text/x-python",
   "name": "python",
   "nbconvert_exporter": "python",
   "pygments_lexer": "ipython3",
   "version": "3.8.3"
  }
 },
 "nbformat": 4,
 "nbformat_minor": 4
}
