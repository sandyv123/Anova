{
 "cells": [
  {
   "cell_type": "markdown",
   "metadata": {},
   "source": [
    "# ===============One way Anova Analysis================="
   ]
  },
  {
   "cell_type": "markdown",
   "metadata": {},
   "source": [
    "### Analysing  Business Startup Costs"
   ]
  },
  {
   "cell_type": "markdown",
   "metadata": {},
   "source": [
    "### IMPORT REQUIRED LIBRARIES"
   ]
  },
  {
   "cell_type": "code",
   "execution_count": 2,
   "metadata": {},
   "outputs": [],
   "source": [
    "import pandas as pd\n",
    "import numpy as np\n",
    "import seaborn as sn"
   ]
  },
  {
   "cell_type": "markdown",
   "metadata": {},
   "source": [
    "### FETCHING EXCEL FILE IN JUPYTOR ENVIRONMENT"
   ]
  },
  {
   "cell_type": "code",
   "execution_count": 167,
   "metadata": {},
   "outputs": [],
   "source": [
    "data=pd.read_excel(\"Business Startup Costs.xlsx\")"
   ]
  },
  {
   "cell_type": "code",
   "execution_count": 194,
   "metadata": {},
   "outputs": [
    {
     "data": {
      "text/html": [
       "<div>\n",
       "<style scoped>\n",
       "    .dataframe tbody tr th:only-of-type {\n",
       "        vertical-align: middle;\n",
       "    }\n",
       "\n",
       "    .dataframe tbody tr th {\n",
       "        vertical-align: top;\n",
       "    }\n",
       "\n",
       "    .dataframe thead th {\n",
       "        text-align: right;\n",
       "    }\n",
       "</style>\n",
       "<table border=\"1\" class=\"dataframe\">\n",
       "  <thead>\n",
       "    <tr style=\"text-align: right;\">\n",
       "      <th></th>\n",
       "      <th>SC_PIZZA</th>\n",
       "      <th>SC_BAKER_DONUTS</th>\n",
       "      <th>SC_SHOE_STORES</th>\n",
       "      <th>SC_GIFT_SHOPS</th>\n",
       "      <th>SC_PET_STORES</th>\n",
       "    </tr>\n",
       "  </thead>\n",
       "  <tbody>\n",
       "    <tr>\n",
       "      <th>0</th>\n",
       "      <td>80.0</td>\n",
       "      <td>150.0</td>\n",
       "      <td>48.0</td>\n",
       "      <td>100.0</td>\n",
       "      <td>25</td>\n",
       "    </tr>\n",
       "    <tr>\n",
       "      <th>1</th>\n",
       "      <td>125.0</td>\n",
       "      <td>40.0</td>\n",
       "      <td>35.0</td>\n",
       "      <td>96.0</td>\n",
       "      <td>80</td>\n",
       "    </tr>\n",
       "    <tr>\n",
       "      <th>2</th>\n",
       "      <td>35.0</td>\n",
       "      <td>120.0</td>\n",
       "      <td>95.0</td>\n",
       "      <td>35.0</td>\n",
       "      <td>30</td>\n",
       "    </tr>\n",
       "    <tr>\n",
       "      <th>3</th>\n",
       "      <td>58.0</td>\n",
       "      <td>75.0</td>\n",
       "      <td>45.0</td>\n",
       "      <td>99.0</td>\n",
       "      <td>35</td>\n",
       "    </tr>\n",
       "    <tr>\n",
       "      <th>4</th>\n",
       "      <td>110.0</td>\n",
       "      <td>160.0</td>\n",
       "      <td>75.0</td>\n",
       "      <td>75.0</td>\n",
       "      <td>30</td>\n",
       "    </tr>\n",
       "    <tr>\n",
       "      <th>5</th>\n",
       "      <td>140.0</td>\n",
       "      <td>60.0</td>\n",
       "      <td>115.0</td>\n",
       "      <td>150.0</td>\n",
       "      <td>28</td>\n",
       "    </tr>\n",
       "    <tr>\n",
       "      <th>6</th>\n",
       "      <td>97.0</td>\n",
       "      <td>45.0</td>\n",
       "      <td>42.0</td>\n",
       "      <td>45.0</td>\n",
       "      <td>20</td>\n",
       "    </tr>\n",
       "    <tr>\n",
       "      <th>7</th>\n",
       "      <td>50.0</td>\n",
       "      <td>100.0</td>\n",
       "      <td>78.0</td>\n",
       "      <td>100.0</td>\n",
       "      <td>75</td>\n",
       "    </tr>\n",
       "    <tr>\n",
       "      <th>8</th>\n",
       "      <td>65.0</td>\n",
       "      <td>86.0</td>\n",
       "      <td>65.0</td>\n",
       "      <td>120.0</td>\n",
       "      <td>48</td>\n",
       "    </tr>\n",
       "    <tr>\n",
       "      <th>9</th>\n",
       "      <td>79.0</td>\n",
       "      <td>87.0</td>\n",
       "      <td>125.0</td>\n",
       "      <td>50.0</td>\n",
       "      <td>20</td>\n",
       "    </tr>\n",
       "    <tr>\n",
       "      <th>10</th>\n",
       "      <td>35.0</td>\n",
       "      <td>90.0</td>\n",
       "      <td>NaN</td>\n",
       "      <td>NaN</td>\n",
       "      <td>50</td>\n",
       "    </tr>\n",
       "    <tr>\n",
       "      <th>11</th>\n",
       "      <td>85.0</td>\n",
       "      <td>NaN</td>\n",
       "      <td>NaN</td>\n",
       "      <td>NaN</td>\n",
       "      <td>75</td>\n",
       "    </tr>\n",
       "    <tr>\n",
       "      <th>12</th>\n",
       "      <td>120.0</td>\n",
       "      <td>NaN</td>\n",
       "      <td>NaN</td>\n",
       "      <td>NaN</td>\n",
       "      <td>55</td>\n",
       "    </tr>\n",
       "    <tr>\n",
       "      <th>13</th>\n",
       "      <td>NaN</td>\n",
       "      <td>NaN</td>\n",
       "      <td>NaN</td>\n",
       "      <td>NaN</td>\n",
       "      <td>60</td>\n",
       "    </tr>\n",
       "    <tr>\n",
       "      <th>14</th>\n",
       "      <td>NaN</td>\n",
       "      <td>NaN</td>\n",
       "      <td>NaN</td>\n",
       "      <td>NaN</td>\n",
       "      <td>85</td>\n",
       "    </tr>\n",
       "    <tr>\n",
       "      <th>15</th>\n",
       "      <td>NaN</td>\n",
       "      <td>NaN</td>\n",
       "      <td>NaN</td>\n",
       "      <td>NaN</td>\n",
       "      <td>110</td>\n",
       "    </tr>\n",
       "  </tbody>\n",
       "</table>\n",
       "</div>"
      ],
      "text/plain": [
       "    SC_PIZZA  SC_BAKER_DONUTS  SC_SHOE_STORES  SC_GIFT_SHOPS  SC_PET_STORES\n",
       "0       80.0            150.0            48.0          100.0             25\n",
       "1      125.0             40.0            35.0           96.0             80\n",
       "2       35.0            120.0            95.0           35.0             30\n",
       "3       58.0             75.0            45.0           99.0             35\n",
       "4      110.0            160.0            75.0           75.0             30\n",
       "5      140.0             60.0           115.0          150.0             28\n",
       "6       97.0             45.0            42.0           45.0             20\n",
       "7       50.0            100.0            78.0          100.0             75\n",
       "8       65.0             86.0            65.0          120.0             48\n",
       "9       79.0             87.0           125.0           50.0             20\n",
       "10      35.0             90.0             NaN            NaN             50\n",
       "11      85.0              NaN             NaN            NaN             75\n",
       "12     120.0              NaN             NaN            NaN             55\n",
       "13       NaN              NaN             NaN            NaN             60\n",
       "14       NaN              NaN             NaN            NaN             85\n",
       "15       NaN              NaN             NaN            NaN            110"
      ]
     },
     "execution_count": 194,
     "metadata": {},
     "output_type": "execute_result"
    }
   ],
   "source": [
    "data"
   ]
  },
  {
   "cell_type": "code",
   "execution_count": null,
   "metadata": {},
   "outputs": [],
   "source": []
  },
  {
   "cell_type": "code",
   "execution_count": null,
   "metadata": {},
   "outputs": [],
   "source": []
  },
  {
   "cell_type": "code",
   "execution_count": null,
   "metadata": {},
   "outputs": [],
   "source": []
  },
  {
   "cell_type": "markdown",
   "metadata": {},
   "source": [
    "### RESHAPE DATASET AS REQUIRED STATSMODEL PACKAGE"
   ]
  },
  {
   "cell_type": "code",
   "execution_count": 76,
   "metadata": {},
   "outputs": [],
   "source": [
    "data_melt=pd.melt(data.reset_index(),id_vars=['index'],value_vars=[\"SC_PIZZA\",\"SC_BAKER_DONUTS\",\"SC_SHOE_STORES\",\"SC_GIFT_SHOPS\",\"SC_PET_STORES\"])"
   ]
  },
  {
   "cell_type": "markdown",
   "metadata": {},
   "source": [
    "### CHECK TOP5 DATA WITH VALUES"
   ]
  },
  {
   "cell_type": "code",
   "execution_count": 77,
   "metadata": {},
   "outputs": [
    {
     "data": {
      "text/html": [
       "<div>\n",
       "<style scoped>\n",
       "    .dataframe tbody tr th:only-of-type {\n",
       "        vertical-align: middle;\n",
       "    }\n",
       "\n",
       "    .dataframe tbody tr th {\n",
       "        vertical-align: top;\n",
       "    }\n",
       "\n",
       "    .dataframe thead th {\n",
       "        text-align: right;\n",
       "    }\n",
       "</style>\n",
       "<table border=\"1\" class=\"dataframe\">\n",
       "  <thead>\n",
       "    <tr style=\"text-align: right;\">\n",
       "      <th></th>\n",
       "      <th>index</th>\n",
       "      <th>variable</th>\n",
       "      <th>value</th>\n",
       "    </tr>\n",
       "  </thead>\n",
       "  <tbody>\n",
       "    <tr>\n",
       "      <th>0</th>\n",
       "      <td>0</td>\n",
       "      <td>SC_PIZZA</td>\n",
       "      <td>80.0</td>\n",
       "    </tr>\n",
       "    <tr>\n",
       "      <th>1</th>\n",
       "      <td>1</td>\n",
       "      <td>SC_PIZZA</td>\n",
       "      <td>125.0</td>\n",
       "    </tr>\n",
       "    <tr>\n",
       "      <th>2</th>\n",
       "      <td>2</td>\n",
       "      <td>SC_PIZZA</td>\n",
       "      <td>35.0</td>\n",
       "    </tr>\n",
       "    <tr>\n",
       "      <th>3</th>\n",
       "      <td>3</td>\n",
       "      <td>SC_PIZZA</td>\n",
       "      <td>58.0</td>\n",
       "    </tr>\n",
       "    <tr>\n",
       "      <th>4</th>\n",
       "      <td>4</td>\n",
       "      <td>SC_PIZZA</td>\n",
       "      <td>110.0</td>\n",
       "    </tr>\n",
       "  </tbody>\n",
       "</table>\n",
       "</div>"
      ],
      "text/plain": [
       "   index  variable  value\n",
       "0      0  SC_PIZZA   80.0\n",
       "1      1  SC_PIZZA  125.0\n",
       "2      2  SC_PIZZA   35.0\n",
       "3      3  SC_PIZZA   58.0\n",
       "4      4  SC_PIZZA  110.0"
      ]
     },
     "execution_count": 77,
     "metadata": {},
     "output_type": "execute_result"
    }
   ],
   "source": [
    "data_melt.head()"
   ]
  },
  {
   "cell_type": "markdown",
   "metadata": {},
   "source": [
    "### RENAME COLUMNS NAME"
   ]
  },
  {
   "cell_type": "code",
   "execution_count": 78,
   "metadata": {},
   "outputs": [
    {
     "data": {
      "text/html": [
       "<div>\n",
       "<style scoped>\n",
       "    .dataframe tbody tr th:only-of-type {\n",
       "        vertical-align: middle;\n",
       "    }\n",
       "\n",
       "    .dataframe tbody tr th {\n",
       "        vertical-align: top;\n",
       "    }\n",
       "\n",
       "    .dataframe thead th {\n",
       "        text-align: right;\n",
       "    }\n",
       "</style>\n",
       "<table border=\"1\" class=\"dataframe\">\n",
       "  <thead>\n",
       "    <tr style=\"text-align: right;\">\n",
       "      <th></th>\n",
       "      <th>index</th>\n",
       "      <th>startups</th>\n",
       "      <th>cost_value(yi)</th>\n",
       "    </tr>\n",
       "  </thead>\n",
       "  <tbody>\n",
       "    <tr>\n",
       "      <th>0</th>\n",
       "      <td>0</td>\n",
       "      <td>SC_PIZZA</td>\n",
       "      <td>80.0</td>\n",
       "    </tr>\n",
       "    <tr>\n",
       "      <th>1</th>\n",
       "      <td>1</td>\n",
       "      <td>SC_PIZZA</td>\n",
       "      <td>125.0</td>\n",
       "    </tr>\n",
       "    <tr>\n",
       "      <th>2</th>\n",
       "      <td>2</td>\n",
       "      <td>SC_PIZZA</td>\n",
       "      <td>35.0</td>\n",
       "    </tr>\n",
       "    <tr>\n",
       "      <th>3</th>\n",
       "      <td>3</td>\n",
       "      <td>SC_PIZZA</td>\n",
       "      <td>58.0</td>\n",
       "    </tr>\n",
       "    <tr>\n",
       "      <th>4</th>\n",
       "      <td>4</td>\n",
       "      <td>SC_PIZZA</td>\n",
       "      <td>110.0</td>\n",
       "    </tr>\n",
       "  </tbody>\n",
       "</table>\n",
       "</div>"
      ],
      "text/plain": [
       "   index  startups  cost_value(yi)\n",
       "0      0  SC_PIZZA            80.0\n",
       "1      1  SC_PIZZA           125.0\n",
       "2      2  SC_PIZZA            35.0\n",
       "3      3  SC_PIZZA            58.0\n",
       "4      4  SC_PIZZA           110.0"
      ]
     },
     "execution_count": 78,
     "metadata": {},
     "output_type": "execute_result"
    }
   ],
   "source": [
    "data_melt.columns=['index','startups','cost_value(yi)']\n",
    "data_melt.head()"
   ]
  },
  {
   "cell_type": "code",
   "execution_count": 186,
   "metadata": {},
   "outputs": [
    {
     "name": "stderr",
     "output_type": "stream",
     "text": [
      "C:\\Users\\Sandeep\\anaconda3\\lib\\site-packages\\seaborn\\categorical.py:1311: RuntimeWarning: invalid value encountered in less\n",
      "  off_low = points < low_gutter\n",
      "C:\\Users\\Sandeep\\anaconda3\\lib\\site-packages\\seaborn\\categorical.py:1315: RuntimeWarning: invalid value encountered in greater\n",
      "  off_high = points > high_gutter\n"
     ]
    },
    {
     "data": {
      "text/plain": [
       "<matplotlib.axes._subplots.AxesSubplot at 0x171c61063a0>"
      ]
     },
     "execution_count": 186,
     "metadata": {},
     "output_type": "execute_result"
    },
    {
     "data": {
      "image/png": "[encoded data removed]",
      "text/plain": [
       "<Figure size 1080x576 with 1 Axes>"
      ]
     },
     "metadata": {
      "needs_background": "light"
     },
     "output_type": "display_data"
    }
   ],
   "source": [
    "import matplotlib.pyplot as plt\n",
    "fig_dims = (15, 8)\n",
    "fig, ax = plt.subplots(figsize=fig_dims)\n",
    "sn.boxplot(x = \"startups\", y = \"cost_value(yi)\", ax=ax, data=data_melt,color='#99c2a2')\n",
    "sn.swarmplot(x=\"startups\", y=\"cost_value(yi)\",ax=ax ,data=data_melt, color='#7d0013')"
   ]
  },
  {
   "cell_type": "markdown",
   "metadata": {},
   "source": [
    "### Boxplot Structure\n",
    "\n",
    "1)Bottom black horizontal line of green box plot is minimum value.\n",
    "\n",
    "2)First black horizontal line of rectangle shape of green box plot is First quartile [Q1] or 25%\n",
    "\n",
    "3)Second black horizontal line of rectangle shape of green box plot is Second quartile [Q2]o r 50% or median\n",
    "\n",
    "4)Third black horizontal line of rectangle shape of green box plot is third quartile [Q3] or 75%\n",
    "\n",
    "5)Top black horizontal line of rectangle shape of green box plot is maximum value.\n",
    "\n",
    "6)Values which are above Top Black Horizontal line of rectangle shape of green box are Outliers"
   ]
  },
  {
   "cell_type": "markdown",
   "metadata": {},
   "source": [
    "Observations :\n",
    "\n",
    "SC_PIZZA:You can see that Q2 is present nearer to Q1. This represents a positively skewed distribution. In terms of quartiles, it can be given by:Q3-Q2 > Q2-Q1\n",
    "\n",
    "SC_BAKER_DONUTS: You can see that Q2 is present nearer to Q1. This represents a positively skewed distribution. In terms of quartiles, it can be given by:Q3-Q2 > Q2-Q1\n",
    "\n",
    "SC_SHOE_STORES :You’ll notice here that the distance between Q1 and Q2 and Q2 and Q3 is almost equal i.e.: Q3-Q2=Q2-Q1\n",
    "\n",
    "SC_GIFT_SHOPS :You can see that Q2 is present nearer to Q3. This represents a negative skewed distribution. In terms of quartiles, it can be given by:Q3-Q2 < Q2-Q1\n",
    "\n",
    "SC_PET_STORES : You can see that Q2 is present nearer to Q1. This represents a positively skewed distribution. In terms of quartiles, it can be given by:Q3-Q2 > Q2-Q1"
   ]
  },
  {
   "cell_type": "code",
   "execution_count": 191,
   "metadata": {},
   "outputs": [
    {
     "name": "stdout",
     "output_type": "stream",
     "text": [
      "MEAN : SC_PIZZA           83.000000\n",
      "SC_BAKER_DONUTS    92.090909\n",
      "SC_SHOE_STORES     72.300000\n",
      "SC_GIFT_SHOPS      87.000000\n",
      "SC_PET_STORES      51.625000\n",
      "dtype: float64\n",
      "Median : SC_PIZZA           80.0\n",
      "SC_BAKER_DONUTS    87.0\n",
      "SC_SHOE_STORES     70.0\n",
      "SC_GIFT_SHOPS      97.5\n",
      "SC_PET_STORES      49.0\n",
      "dtype: float64\n",
      "difference : SC_PIZZA            3.000000\n",
      "SC_BAKER_DONUTS     5.090909\n",
      "SC_SHOE_STORES      2.300000\n",
      "SC_GIFT_SHOPS     -10.500000\n",
      "SC_PET_STORES       2.625000\n",
      "dtype: float64\n"
     ]
    }
   ],
   "source": [
    "print(\"MEAN :\",data.mean())\n",
    "print(\"Median :\",data.median())\n",
    "#print(\"Mode :\",df.mode().T)\n",
    "print(\"difference :\",data.mean()-data.median())"
   ]
  },
  {
   "cell_type": "markdown",
   "metadata": {},
   "source": [
    "As we notice mean > median in all startups except SC_GIFT_SHOPS  ,its tells that the value of skweness for skewed distribution is greater than Zero. i.e data is +ve Skewed"
   ]
  },
  {
   "cell_type": "markdown",
   "metadata": {},
   "source": [
    "We can also check Skewness by using Skew() inbuilt function"
   ]
  },
  {
   "cell_type": "code",
   "execution_count": 192,
   "metadata": {},
   "outputs": [
    {
     "name": "stdout",
     "output_type": "stream",
     "text": [
      "skewValue of dataframe attributes:  SC_PIZZA           0.132972\n",
      "SC_BAKER_DONUTS    0.509844\n",
      "SC_SHOE_STORES     0.546078\n",
      "SC_GIFT_SHOPS      0.077294\n",
      "SC_PET_STORES      0.633106\n",
      "dtype: float64\n"
     ]
    }
   ],
   "source": [
    "skewValue = data.skew()\n",
    "print(\"skewValue of dataframe attributes: \", skewValue)"
   ]
  },
  {
   "cell_type": "markdown",
   "metadata": {},
   "source": [
    "Since our data is positively skewed here, it means that it has a higher number of data points having low values"
   ]
  },
  {
   "cell_type": "code",
   "execution_count": 193,
   "metadata": {},
   "outputs": [
    {
     "data": {
      "image/png": "[encoded data removed]",
      "text/plain": [
       "<Figure size 1728x288 with 5 Axes>"
      ]
     },
     "metadata": {
      "needs_background": "light"
     },
     "output_type": "display_data"
    }
   ],
   "source": [
    "f,ax=plt.subplots(1,5,figsize=(24,4))\n",
    "vis1=sn.distplot(data['SC_PIZZA'],bins=10,ax=ax[0])\n",
    "vis2=sn.distplot(data['SC_BAKER_DONUTS'],bins=10,ax=ax[1])\n",
    "vis3=sn.distplot(data['SC_SHOE_STORES'],bins=10,ax=ax[2])\n",
    "vis4=sn.distplot(data['SC_GIFT_SHOPS'],bins=10,ax=ax[3])\n",
    "vis5=sn.distplot(data['SC_PET_STORES'],bins=10,ax=ax[4])"
   ]
  },
  {
   "cell_type": "markdown",
   "metadata": {},
   "source": [
    "### STEPS INVOLVE IN MANUAL CALCULATION OF ONE WAY ANOVA"
   ]
  },
  {
   "cell_type": "markdown",
   "metadata": {},
   "source": [
    "### Sum of Squares Total"
   ]
  },
  {
   "cell_type": "markdown",
   "metadata": {},
   "source": [
    "SST=$\\sum \\limits _{i=1} ^{n} (y_{i} - \\hat{y})^{2} $"
   ]
  },
  {
   "cell_type": "markdown",
   "metadata": {},
   "source": [
    "To get there, we first compute the overall mean"
   ]
  },
  {
   "cell_type": "code",
   "execution_count": 79,
   "metadata": {},
   "outputs": [
    {
     "name": "stdout",
     "output_type": "stream",
     "text": [
      "OverAll Mean(y_bar) : 75.18\n"
     ]
    }
   ],
   "source": [
    "Over_All_Mean=data_melt['cost_value(yi)'].mean()\n",
    "print('OverAll Mean(y_bar) :',round(Over_All_Mean,2))"
   ]
  },
  {
   "cell_type": "markdown",
   "metadata": {},
   "source": [
    "And now compute the sum of the squared differences between the original scores and the overall mean: SUM OF SQUARE TOTAL"
   ]
  },
  {
   "cell_type": "code",
   "execution_count": 80,
   "metadata": {},
   "outputs": [
    {
     "name": "stdout",
     "output_type": "stream",
     "text": [
      "SUM OF SQUARES TOTAL(SST) 74858.98\n"
     ]
    }
   ],
   "source": [
    "data_melt['Over_All_Mean(y_bar)']=Over_All_Mean\n",
    "data_melt.head(50)\n",
    "\n",
    "data_melt_1=data_melt.dropna()\n",
    "data_melt_1\n",
    "SST=sum((data_melt_1['cost_value(yi)'] - data_melt_1['Over_All_Mean(y_bar)'])**2)\n",
    "print(\"SUM OF SQUARES TOTAL(SST)\",round(SST,2))"
   ]
  },
  {
   "cell_type": "markdown",
   "metadata": {},
   "source": [
    "This value can be found in the ANOVA table of statsmodels by taking the sum of the sum_sq column"
   ]
  },
  {
   "cell_type": "markdown",
   "metadata": {},
   "source": [
    "### Sum of Squares Residual "
   ]
  },
  {
   "cell_type": "markdown",
   "metadata": {},
   "source": [
    "The computation for residual Sum of Squares is slightly different because it takes not the overall average, but the three group averages.\n",
    "We need to subtract each value from the mean of its group (the mean of its own startup) and then square those differences and sum them."
   ]
  },
  {
   "cell_type": "markdown",
   "metadata": {},
   "source": [
    "SSE=$\\sum \\limits _{i=1} ^{n} (y_{i} - \\hat{groupmean})^{2} $"
   ]
  },
  {
   "cell_type": "markdown",
   "metadata": {},
   "source": [
    "### AVERAGE COST VALUE PER STARTUP GIVES FIRST INSIGHT IN WHICH STARTUP LOW COST VALUE"
   ]
  },
  {
   "cell_type": "markdown",
   "metadata": {},
   "source": [
    "Compute Group Mean"
   ]
  },
  {
   "cell_type": "code",
   "execution_count": 81,
   "metadata": {},
   "outputs": [
    {
     "data": {
      "text/html": [
       "<div>\n",
       "<style scoped>\n",
       "    .dataframe tbody tr th:only-of-type {\n",
       "        vertical-align: middle;\n",
       "    }\n",
       "\n",
       "    .dataframe tbody tr th {\n",
       "        vertical-align: top;\n",
       "    }\n",
       "\n",
       "    .dataframe thead th {\n",
       "        text-align: right;\n",
       "    }\n",
       "</style>\n",
       "<table border=\"1\" class=\"dataframe\">\n",
       "  <thead>\n",
       "    <tr style=\"text-align: right;\">\n",
       "      <th></th>\n",
       "      <th>index</th>\n",
       "      <th>group_means</th>\n",
       "      <th>Over_All_Mean(y_bar)</th>\n",
       "    </tr>\n",
       "    <tr>\n",
       "      <th>startups</th>\n",
       "      <th></th>\n",
       "      <th></th>\n",
       "      <th></th>\n",
       "    </tr>\n",
       "  </thead>\n",
       "  <tbody>\n",
       "    <tr>\n",
       "      <th>SC_BAKER_DONUTS</th>\n",
       "      <td>5.0</td>\n",
       "      <td>92.09</td>\n",
       "      <td>75.18</td>\n",
       "    </tr>\n",
       "    <tr>\n",
       "      <th>SC_GIFT_SHOPS</th>\n",
       "      <td>4.5</td>\n",
       "      <td>87.00</td>\n",
       "      <td>75.18</td>\n",
       "    </tr>\n",
       "    <tr>\n",
       "      <th>SC_PET_STORES</th>\n",
       "      <td>7.5</td>\n",
       "      <td>51.62</td>\n",
       "      <td>75.18</td>\n",
       "    </tr>\n",
       "    <tr>\n",
       "      <th>SC_PIZZA</th>\n",
       "      <td>6.0</td>\n",
       "      <td>83.00</td>\n",
       "      <td>75.18</td>\n",
       "    </tr>\n",
       "    <tr>\n",
       "      <th>SC_SHOE_STORES</th>\n",
       "      <td>4.5</td>\n",
       "      <td>72.30</td>\n",
       "      <td>75.18</td>\n",
       "    </tr>\n",
       "  </tbody>\n",
       "</table>\n",
       "</div>"
      ],
      "text/plain": [
       "                 index  group_means  Over_All_Mean(y_bar)\n",
       "startups                                                 \n",
       "SC_BAKER_DONUTS    5.0        92.09                 75.18\n",
       "SC_GIFT_SHOPS      4.5        87.00                 75.18\n",
       "SC_PET_STORES      7.5        51.62                 75.18\n",
       "SC_PIZZA           6.0        83.00                 75.18\n",
       "SC_SHOE_STORES     4.5        72.30                 75.18"
      ]
     },
     "execution_count": 81,
     "metadata": {},
     "output_type": "execute_result"
    }
   ],
   "source": [
    "group_means=data_melt_1.groupby('startups').mean()\n",
    "group_means=group_means.rename(columns={'cost_value(yi)' : 'group_means'}) #renaming cost_value(yi) to group mean\n",
    "round(group_means,2)"
   ]
  },
  {
   "cell_type": "markdown",
   "metadata": {},
   "source": [
    "Add group mean and overall mean to the original dataset"
   ]
  },
  {
   "cell_type": "code",
   "execution_count": 82,
   "metadata": {},
   "outputs": [],
   "source": [
    "data_melt_1=data_melt_1.merge(group_means,left_on='startups',right_index=True)"
   ]
  },
  {
   "cell_type": "code",
   "execution_count": 84,
   "metadata": {},
   "outputs": [],
   "source": [
    "del data_melt_1['Over_All_Mean(y_bar)_y']\n",
    "# data_melt_1.drop(['Over_All_Mean(y_bar)_y'])"
   ]
  },
  {
   "cell_type": "code",
   "execution_count": 87,
   "metadata": {},
   "outputs": [
    {
     "data": {
      "text/html": [
       "<div>\n",
       "<style scoped>\n",
       "    .dataframe tbody tr th:only-of-type {\n",
       "        vertical-align: middle;\n",
       "    }\n",
       "\n",
       "    .dataframe tbody tr th {\n",
       "        vertical-align: top;\n",
       "    }\n",
       "\n",
       "    .dataframe thead th {\n",
       "        text-align: right;\n",
       "    }\n",
       "</style>\n",
       "<table border=\"1\" class=\"dataframe\">\n",
       "  <thead>\n",
       "    <tr style=\"text-align: right;\">\n",
       "      <th></th>\n",
       "      <th>index_x</th>\n",
       "      <th>startups</th>\n",
       "      <th>cost_value(yi)</th>\n",
       "      <th>Over_All_Mean(y_bar)_x</th>\n",
       "      <th>index_y</th>\n",
       "      <th>group_means</th>\n",
       "    </tr>\n",
       "  </thead>\n",
       "  <tbody>\n",
       "    <tr>\n",
       "      <th>0</th>\n",
       "      <td>0</td>\n",
       "      <td>SC_PIZZA</td>\n",
       "      <td>80.0</td>\n",
       "      <td>75.183333</td>\n",
       "      <td>6.0</td>\n",
       "      <td>83.0</td>\n",
       "    </tr>\n",
       "    <tr>\n",
       "      <th>1</th>\n",
       "      <td>1</td>\n",
       "      <td>SC_PIZZA</td>\n",
       "      <td>125.0</td>\n",
       "      <td>75.183333</td>\n",
       "      <td>6.0</td>\n",
       "      <td>83.0</td>\n",
       "    </tr>\n",
       "    <tr>\n",
       "      <th>2</th>\n",
       "      <td>2</td>\n",
       "      <td>SC_PIZZA</td>\n",
       "      <td>35.0</td>\n",
       "      <td>75.183333</td>\n",
       "      <td>6.0</td>\n",
       "      <td>83.0</td>\n",
       "    </tr>\n",
       "    <tr>\n",
       "      <th>3</th>\n",
       "      <td>3</td>\n",
       "      <td>SC_PIZZA</td>\n",
       "      <td>58.0</td>\n",
       "      <td>75.183333</td>\n",
       "      <td>6.0</td>\n",
       "      <td>83.0</td>\n",
       "    </tr>\n",
       "    <tr>\n",
       "      <th>4</th>\n",
       "      <td>4</td>\n",
       "      <td>SC_PIZZA</td>\n",
       "      <td>110.0</td>\n",
       "      <td>75.183333</td>\n",
       "      <td>6.0</td>\n",
       "      <td>83.0</td>\n",
       "    </tr>\n",
       "  </tbody>\n",
       "</table>\n",
       "</div>"
      ],
      "text/plain": [
       "   index_x  startups  cost_value(yi)  Over_All_Mean(y_bar)_x  index_y  \\\n",
       "0        0  SC_PIZZA            80.0               75.183333      6.0   \n",
       "1        1  SC_PIZZA           125.0               75.183333      6.0   \n",
       "2        2  SC_PIZZA            35.0               75.183333      6.0   \n",
       "3        3  SC_PIZZA            58.0               75.183333      6.0   \n",
       "4        4  SC_PIZZA           110.0               75.183333      6.0   \n",
       "\n",
       "   group_means  \n",
       "0         83.0  \n",
       "1         83.0  \n",
       "2         83.0  \n",
       "3         83.0  \n",
       "4         83.0  "
      ]
     },
     "execution_count": 87,
     "metadata": {},
     "output_type": "execute_result"
    }
   ],
   "source": [
    "data_melt_1.head()"
   ]
  },
  {
   "cell_type": "markdown",
   "metadata": {},
   "source": [
    "Compute Sum of Square Residual"
   ]
  },
  {
   "cell_type": "code",
   "execution_count": 91,
   "metadata": {},
   "outputs": [
    {
     "name": "stdout",
     "output_type": "stream",
     "text": [
      "Sum of Square Residual : 60560.76\n"
     ]
    }
   ],
   "source": [
    "SSE=sum((data_melt_1['cost_value(yi)'] - data_melt_1['group_means'])**2)\n",
    "print('Sum of Square Residual :',round(SSE,2))"
   ]
  },
  {
   "cell_type": "markdown",
   "metadata": {},
   "source": [
    "We can find this value in the ANOVA table of statsmodels under sum_sq at the line Residual."
   ]
  },
  {
   "cell_type": "markdown",
   "metadata": {},
   "source": [
    "### Sum of Squares Explained"
   ]
  },
  {
   "cell_type": "markdown",
   "metadata": {},
   "source": [
    "Having computed the total sum of squares and the residual sum of squares, we can now compute the Explained Sum of Squares using:"
   ]
  },
  {
   "cell_type": "markdown",
   "metadata": {},
   "source": [
    "### SST=SS(EXPLAINED) + SSE \n",
    "\n",
    "### So  we can find Sum of Square Explained,\n",
    "\n",
    "### SS(EXPLAINED)=SST-SSE"
   ]
  },
  {
   "cell_type": "markdown",
   "metadata": {},
   "source": [
    "Since we already have the SS-Residual(SSE) and SS-Total(SST), we could do a simple subtraction to get SS-Explained. \n",
    "\n",
    "To get there the hard way, we take the weighted sum of the squared differences between each group means and the overall mean, as follows:"
   ]
  },
  {
   "cell_type": "markdown",
   "metadata": {},
   "source": [
    "Compute Sum of Squares Explained"
   ]
  },
  {
   "cell_type": "code",
   "execution_count": 94,
   "metadata": {},
   "outputs": [
    {
     "name": "stdout",
     "output_type": "stream",
     "text": [
      "Sum of Square Explained  14298.22\n"
     ]
    }
   ],
   "source": [
    "SS_Explained=sum((data_melt_1['Over_All_Mean(y_bar)_x'] - data_melt_1['group_means'])**2)\n",
    "print(\"Sum of Square Explained \",round(SS_Explained,2))"
   ]
  },
  {
   "cell_type": "markdown",
   "metadata": {},
   "source": [
    "The value can be found in the statsmodels table under sum_sq at the line Startups."
   ]
  },
  {
   "cell_type": "markdown",
   "metadata": {},
   "source": [
    "### Determine degrees of freedom"
   ]
  },
  {
   "cell_type": "markdown",
   "metadata": {},
   "source": [
    "df1 = df of the explained part = number of groups — 1\n",
    "\n",
    "df2 = df of the residual = number of observations — number of groups"
   ]
  },
  {
   "cell_type": "code",
   "execution_count": 110,
   "metadata": {},
   "outputs": [
    {
     "name": "stdout",
     "output_type": "stream",
     "text": [
      "Between Groups df1 : 4\n",
      "Within Groups df2 : 55\n",
      "Total_df= 59\n"
     ]
    }
   ],
   "source": [
    "df1=5-1\n",
    "df2=60-5\n",
    "print('Between Groups df1 :',df1)\n",
    "print('Within Groups df2 :',df2)\n",
    "print('Total_df=',df1+df2)"
   ]
  },
  {
   "cell_type": "markdown",
   "metadata": {},
   "source": [
    "### Mean Squares"
   ]
  },
  {
   "cell_type": "markdown",
   "metadata": {},
   "source": [
    "Compute Mean Square Explained"
   ]
  },
  {
   "cell_type": "code",
   "execution_count": 109,
   "metadata": {},
   "outputs": [
    {
     "data": {
      "text/plain": [
       "60"
      ]
     },
     "execution_count": 109,
     "metadata": {},
     "output_type": "execute_result"
    }
   ],
   "source": [
    "n_groups=len(set(data_melt_1['startups']))\n",
    "n_obs=data_melt_1.shape[0]\n",
    "#Mean_sqaure_Explained=SS_Explained/df1\n",
    "n_groups\n",
    "n_obs"
   ]
  },
  {
   "cell_type": "code",
   "execution_count": 112,
   "metadata": {},
   "outputs": [
    {
     "name": "stdout",
     "output_type": "stream",
     "text": [
      "MS_Explained  3574.56\n"
     ]
    }
   ],
   "source": [
    "df_explained=n_groups-1\n",
    "MS_explained=SS_Explained/df_explained\n",
    "print('MS_Explained ',round(MS_explained,2))"
   ]
  },
  {
   "cell_type": "markdown",
   "metadata": {},
   "source": [
    "Compute Mean Square Residual or Error"
   ]
  },
  {
   "cell_type": "code",
   "execution_count": 113,
   "metadata": {},
   "outputs": [
    {
     "name": "stdout",
     "output_type": "stream",
     "text": [
      "MS_residual  1101.1\n"
     ]
    }
   ],
   "source": [
    "df_residual=n_obs-n_groups\n",
    "MS_residual=SSE/df_residual\n",
    "print('MS_residual ',round(MS_residual,2))"
   ]
  },
  {
   "cell_type": "markdown",
   "metadata": {},
   "source": [
    "### F Statistic"
   ]
  },
  {
   "cell_type": "markdown",
   "metadata": {},
   "source": []
  },
  {
   "cell_type": "markdown",
   "metadata": {},
   "source": [
    "F-STATTISTIC=$(MS_EXPLAINED   /   MS_RESIDUAL)$"
   ]
  },
  {
   "cell_type": "code",
   "execution_count": 116,
   "metadata": {},
   "outputs": [
    {
     "data": {
      "text/plain": [
       "3.2463361801362502"
      ]
     },
     "execution_count": 116,
     "metadata": {},
     "output_type": "execute_result"
    }
   ],
   "source": [
    "Ftest=MS_explained/MS_residual\n",
    "Ftest"
   ]
  },
  {
   "cell_type": "markdown",
   "metadata": {},
   "source": [
    "### P-value\n",
    "\n",
    "In hypothesis testing, the p-value is used to decide whether an alternative hypothesis can be accepted or not\n",
    "\n",
    "If the p-value is below 0.05, we reject the null hypothesis in favor of the alternative: this means that at least one group mean is significantly different."
   ]
  },
  {
   "cell_type": "markdown",
   "metadata": {},
   "source": [
    "We compute the P-Value using the F distribution with df1 and df2 degrees of freedom, in our case an F(2, 18) distribution.\n",
    "\n",
    "Using probability calculation, we find the p-value as follows:"
   ]
  },
  {
   "cell_type": "code",
   "execution_count": 121,
   "metadata": {},
   "outputs": [
    {
     "name": "stdout",
     "output_type": "stream",
     "text": [
      "P_value :  0.02\n"
     ]
    }
   ],
   "source": [
    "import scipy.stats \n",
    "\n",
    "p_value=1-scipy.stats.f.cdf(Ftest,df_explained,df_residual)\n",
    "print(\"P_value : \" ,round(p_value,2))"
   ]
  },
  {
   "cell_type": "markdown",
   "metadata": {},
   "source": [
    "### Interpretation"
   ]
  },
  {
   "cell_type": "markdown",
   "metadata": {},
   "source": [
    "### The p value obtained from ANOVA analysis is significant (p < 0.05), and therefore, we conclude that there are significant differences among Startups(groups or treatment).\n",
    "\n",
    "### so we reject our null hypothesis."
   ]
  },
  {
   "cell_type": "markdown",
   "metadata": {},
   "source": [
    "### Alternate way to do this in one snapshot"
   ]
  },
  {
   "cell_type": "code",
   "execution_count": 123,
   "metadata": {},
   "outputs": [],
   "source": [
    "import statsmodels.api as sm\n",
    "from statsmodels.formula.api import ols"
   ]
  },
  {
   "cell_type": "code",
   "execution_count": 159,
   "metadata": {},
   "outputs": [
    {
     "data": {
      "text/html": [
       "<div>\n",
       "<style scoped>\n",
       "    .dataframe tbody tr th:only-of-type {\n",
       "        vertical-align: middle;\n",
       "    }\n",
       "\n",
       "    .dataframe tbody tr th {\n",
       "        vertical-align: top;\n",
       "    }\n",
       "\n",
       "    .dataframe thead th {\n",
       "        text-align: right;\n",
       "    }\n",
       "</style>\n",
       "<table border=\"1\" class=\"dataframe\">\n",
       "  <thead>\n",
       "    <tr style=\"text-align: right;\">\n",
       "      <th></th>\n",
       "      <th>index_x</th>\n",
       "      <th>startups</th>\n",
       "      <th>cost_value</th>\n",
       "      <th>Over_All_Mean(y_bar)_x</th>\n",
       "      <th>index_y</th>\n",
       "      <th>group_means</th>\n",
       "    </tr>\n",
       "  </thead>\n",
       "  <tbody>\n",
       "    <tr>\n",
       "      <th>0</th>\n",
       "      <td>0</td>\n",
       "      <td>SC_PIZZA</td>\n",
       "      <td>80.0</td>\n",
       "      <td>75.183333</td>\n",
       "      <td>6.0</td>\n",
       "      <td>83.0</td>\n",
       "    </tr>\n",
       "    <tr>\n",
       "      <th>1</th>\n",
       "      <td>1</td>\n",
       "      <td>SC_PIZZA</td>\n",
       "      <td>125.0</td>\n",
       "      <td>75.183333</td>\n",
       "      <td>6.0</td>\n",
       "      <td>83.0</td>\n",
       "    </tr>\n",
       "    <tr>\n",
       "      <th>2</th>\n",
       "      <td>2</td>\n",
       "      <td>SC_PIZZA</td>\n",
       "      <td>35.0</td>\n",
       "      <td>75.183333</td>\n",
       "      <td>6.0</td>\n",
       "      <td>83.0</td>\n",
       "    </tr>\n",
       "    <tr>\n",
       "      <th>3</th>\n",
       "      <td>3</td>\n",
       "      <td>SC_PIZZA</td>\n",
       "      <td>58.0</td>\n",
       "      <td>75.183333</td>\n",
       "      <td>6.0</td>\n",
       "      <td>83.0</td>\n",
       "    </tr>\n",
       "    <tr>\n",
       "      <th>4</th>\n",
       "      <td>4</td>\n",
       "      <td>SC_PIZZA</td>\n",
       "      <td>110.0</td>\n",
       "      <td>75.183333</td>\n",
       "      <td>6.0</td>\n",
       "      <td>83.0</td>\n",
       "    </tr>\n",
       "  </tbody>\n",
       "</table>\n",
       "</div>"
      ],
      "text/plain": [
       "   index_x  startups  cost_value  Over_All_Mean(y_bar)_x  index_y  group_means\n",
       "0        0  SC_PIZZA        80.0               75.183333      6.0         83.0\n",
       "1        1  SC_PIZZA       125.0               75.183333      6.0         83.0\n",
       "2        2  SC_PIZZA        35.0               75.183333      6.0         83.0\n",
       "3        3  SC_PIZZA        58.0               75.183333      6.0         83.0\n",
       "4        4  SC_PIZZA       110.0               75.183333      6.0         83.0"
      ]
     },
     "execution_count": 159,
     "metadata": {},
     "output_type": "execute_result"
    }
   ],
   "source": [
    "# data_melt_1.head()\n",
    "data_1=data_melt_1.rename(columns= {'cost_value(yi)' :'cost_value'})\n",
    "#data1=pd.DataFrame(data)\n",
    "data_1.head()"
   ]
  },
  {
   "cell_type": "markdown",
   "metadata": {},
   "source": [
    "### Ordinary Least Squares (OLS) model"
   ]
  },
  {
   "cell_type": "code",
   "execution_count": 160,
   "metadata": {},
   "outputs": [],
   "source": [
    "lm=ols('cost_value~C(startups)',data_1).fit()"
   ]
  },
  {
   "cell_type": "code",
   "execution_count": 161,
   "metadata": {},
   "outputs": [],
   "source": [
    "Anova_table=sm.stats.anova_lm(lm)\n",
    "res=lm.resid #residual"
   ]
  },
  {
   "cell_type": "code",
   "execution_count": 162,
   "metadata": {},
   "outputs": [
    {
     "name": "stdout",
     "output_type": "stream",
     "text": [
      "               df        sum_sq      mean_sq         F    PR(>F)\n",
      "C(startups)   4.0  14298.224242  3574.556061  3.246336  0.018391\n",
      "Residual     55.0  60560.759091  1101.104711       NaN       NaN\n"
     ]
    }
   ],
   "source": [
    "print(Anova_table)"
   ]
  },
  {
   "cell_type": "markdown",
   "metadata": {},
   "source": [
    "Decision Rule: Reject H0 if p-value is less or equal to the level of significance.\n",
    "\n",
    "Decision: We reject H0 since p-value (0.018391) is less than the level of significance (0.05).\n",
    "\n",
    "Inference: The mean Cost Value are not equal for at least one of the startup."
   ]
  },
  {
   "cell_type": "markdown",
   "metadata": {},
   "source": [
    "# Important Note :\n",
    "\n",
    "If you have unbalanced (unequal sample size for each group) data, you can perform similar steps as described for one-way ANOVA with balanced design (equal sample size for each group)."
   ]
  },
  {
   "cell_type": "markdown",
   "metadata": {},
   "source": [
    "###  From One way ANOVA Analysis, we know that treatment or group or independentant variable (startups) differences are statistically significant, but ANOVA does not tell which startups(group) are significantly different from each other. To know the pairs of significant different treatments, we will perform multiple pairwise comparison (post hoc comparison) analysis for all unplanned comparison using Tukey’s honestly significantly differenced (HSD) test."
   ]
  },
  {
   "cell_type": "markdown",
   "metadata": {},
   "source": [
    "### Import pairwise_tukeyhsd"
   ]
  },
  {
   "cell_type": "code",
   "execution_count": 146,
   "metadata": {},
   "outputs": [],
   "source": [
    "from statsmodels.stats.multicomp import pairwise_tukeyhsd"
   ]
  },
  {
   "cell_type": "code",
   "execution_count": 163,
   "metadata": {},
   "outputs": [
    {
     "name": "stdout",
     "output_type": "stream",
     "text": [
      "         Multiple Comparison of Means - Tukey HSD, FWER=0.05          \n",
      "======================================================================\n",
      "     group1         group2     meandiff p-adj   lower    upper  reject\n",
      "----------------------------------------------------------------------\n",
      "SC_BAKER_DONUTS  SC_GIFT_SHOPS  -5.0909    0.9 -45.9825 35.8007  False\n",
      "SC_BAKER_DONUTS  SC_PET_STORES -40.4659 0.0235  -77.122 -3.8098   True\n",
      "SC_BAKER_DONUTS       SC_PIZZA  -9.0909    0.9 -47.4315 29.2496  False\n",
      "SC_BAKER_DONUTS SC_SHOE_STORES -19.7909 0.6339 -60.6825 21.1007  False\n",
      "  SC_GIFT_SHOPS  SC_PET_STORES  -35.375 0.0763 -73.1016  2.3516  False\n",
      "  SC_GIFT_SHOPS       SC_PIZZA     -4.0    0.9 -43.3653 35.3653  False\n",
      "  SC_GIFT_SHOPS SC_SHOE_STORES    -14.7 0.8423 -56.5539 27.1539  False\n",
      "  SC_PET_STORES       SC_PIZZA   31.375 0.0982  -3.5702 66.3202  False\n",
      "  SC_PET_STORES SC_SHOE_STORES   20.675 0.5333 -17.0516 58.4016  False\n",
      "       SC_PIZZA SC_SHOE_STORES    -10.7    0.9 -50.0653 28.6653  False\n",
      "----------------------------------------------------------------------\n"
     ]
    }
   ],
   "source": [
    "tukey=pairwise_tukeyhsd(endog=data_1['cost_value'],\n",
    "                         groups=data_1['startups'],\n",
    "                        alpha=0.05)\n",
    "print(tukey)"
   ]
  },
  {
   "cell_type": "markdown",
   "metadata": {},
   "source": [
    "The pairs with p-value that is less than 0.05 are significantly different from each other"
   ]
  },
  {
   "cell_type": "markdown",
   "metadata": {},
   "source": [
    "Thus, we would conclude that there is a statistically significant difference between\n",
    "\n",
    "startups-SC_BAKER_DONUTS and SC_PET_STORES ,rest all are not statisticaly difference between mean of group where p-adj is not less than 5% alpha\n",
    "\n",
    "Above results from Tukey’s HSD suggests that only startups-SC_BAKER_DONUTS and SC_PET_STORES, all other pairwise comparisons for startups(groups) Accept null hypothesis (p > 0.05) and indicates not statistical significant differences."
   ]
  },
  {
   "cell_type": "markdown",
   "metadata": {},
   "source": [
    "#### Note: Tukey's HSD test is conservative and increases the critical value to control the experimentwise type I error rate. If you have a large number of comparisons (say > 10 or 20) to make using Tukey's test, there may be chances that you may not get significant results for all or expected pairs. If you are interested in only specific or few comparisons and you won't find significant differences using Tukey's test, you may split the data for specific comparisons or use the t-test"
   ]
  },
  {
   "cell_type": "markdown",
   "metadata": {},
   "source": [
    "### Test ANOVA Assumptions"
   ]
  },
  {
   "cell_type": "markdown",
   "metadata": {},
   "source": [
    "#### QQ-plot"
   ]
  },
  {
   "cell_type": "code",
   "execution_count": 164,
   "metadata": {},
   "outputs": [
    {
     "data": {
      "image/png": "[encoded data removed]",
      "text/plain": [
       "<Figure size 360x288 with 1 Axes>"
      ]
     },
     "metadata": {
      "needs_background": "light"
     },
     "output_type": "display_data"
    }
   ],
   "source": [
    "import numpy as np\n",
    "import pingouin as pg\n",
    "#np.random.seed(123)\n",
    "#x = np.random.normal(size=50)\n",
    "ax = pg.qqplot(res, dist='norm')"
   ]
  },
  {
   "cell_type": "code",
   "execution_count": 149,
   "metadata": {},
   "outputs": [
    {
     "data": {
      "image/png": "[encoded data removed]",
      "text/plain": [
       "<Figure size 432x288 with 1 Axes>"
      ]
     },
     "metadata": {
      "needs_background": "light"
     },
     "output_type": "display_data"
    }
   ],
   "source": [
    "import matplotlib.pyplot as plt\n",
    "plt.hist(res, bins='auto', histtype='bar', ec='k') \n",
    "plt.xlabel(\"Residuals\")\n",
    "plt.ylabel('Frequency')\n",
    "plt.show()"
   ]
  },
  {
   "cell_type": "markdown",
   "metadata": {},
   "source": [
    "### Normality Check using Shapiro test\n",
    "\n",
    "Shapiro-Wilk test can be used to check the normal distribution of residuals. Null hypothesis: data is drawn from normal distribution."
   ]
  },
  {
   "cell_type": "code",
   "execution_count": 165,
   "metadata": {},
   "outputs": [],
   "source": [
    "from scipy.stats import shapiro\n",
    "normal_data=data_1['cost_value']\n",
    "normal_data\n",
    "stat,pvalue=shapiro(normal_data)"
   ]
  },
  {
   "cell_type": "code",
   "execution_count": 166,
   "metadata": {},
   "outputs": [
    {
     "name": "stdout",
     "output_type": "stream",
     "text": [
      "Stat : 0.961 P-value : 0.052\n"
     ]
    }
   ],
   "source": [
    "print(\"Stat :\",round(stat,3),\"P-value :\", round(pvalue,3))"
   ]
  },
  {
   "cell_type": "markdown",
   "metadata": {},
   "source": [
    "As the p value is significant, we reject null hypothesis and conclude that data is not drawn from normal distribution."
   ]
  },
  {
   "cell_type": "markdown",
   "metadata": {},
   "source": [
    "### Levene’s test \n",
    "\n",
    "can be used to check the Homogeneity of variances when the data is not drawn from normal distribution."
   ]
  },
  {
   "cell_type": "code",
   "execution_count": 177,
   "metadata": {},
   "outputs": [],
   "source": [
    "datax = [data[col].dropna() for col in data]"
   ]
  },
  {
   "cell_type": "code",
   "execution_count": 179,
   "metadata": {},
   "outputs": [
    {
     "name": "stdout",
     "output_type": "stream",
     "text": [
      "P-value 0.931\n"
     ]
    }
   ],
   "source": [
    "from scipy.stats import levene\n",
    "stat, pvalue = levene(*datax)\n",
    "print(\"P-value\",round(pvalue,3))"
   ]
  }
 ],
 "metadata": {
  "kernelspec": {
   "display_name": "Python 3",
   "language": "python",
   "name": "python3"
  },
  "language_info": {
   "codemirror_mode": {
    "name": "ipython",
    "version": 3
   },
   "file_extension": ".py",
   "mimetype": "text/x-python",
   "name": "python",
   "nbconvert_exporter": "python",
   "pygments_lexer": "ipython3",
   "version": "3.8.3"
  }
 },
 "nbformat": 4,
 "nbformat_minor": 4
}
